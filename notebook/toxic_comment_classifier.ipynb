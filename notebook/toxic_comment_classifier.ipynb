{
 "cells": [
  {
   "cell_type": "code",
   "execution_count": 1,
   "metadata": {},
   "outputs": [],
   "source": [
    "import os\n",
    "import sys\n",
    "\n",
    "import optuna\n",
    "\n",
    "sys.path.insert(0, os.path.join(os.getcwd(), \"..\"))\n",
    "\n",
    "from src.dataset import fetch_dataset\n",
    "from src.train import run_training\n"
   ]
  },
  {
   "cell_type": "code",
   "execution_count": 2,
   "metadata": {},
   "outputs": [],
   "source": [
    "N_TRIALS = 50\n",
    "os.environ[\"http_proxy\"] = \"\"\n",
    "os.environ[\"https_proxy\"] = \"\"\n",
    "os.environ[\"HTTP_PROXY\"] = \"\"\n",
    "os.environ[\"HTTPS_PROXY\"] = \"\"\n"
   ]
  },
  {
   "cell_type": "code",
   "execution_count": null,
   "metadata": {},
   "outputs": [],
   "source": [
    "def objective(trial):\n",
    "\n",
    "    checkpoint_name = trial.suggest_categorical(\n",
    "        \"checkpoint_name\",\n",
    "        (\n",
    "            \"bert-base-uncased\",\n",
    "            \"distilbert-base-uncased\",\n",
    "            \"unitary/toxic-bert\",\n",
    "            \"roberta-base\",\n",
    "        ),\n",
    "    )\n",
    "    batch_size = trial.suggest_int(\"batch_size\", low=6, high=10)\n",
    "    epochs = trial.suggest_int(\"epochs\", low=8, high=24)\n",
    "    random_seed = trial.suggest_int(\"random_seed\", low=0, high=1000_000)\n",
    "    lr = trial.suggest_loguniform(\"lr\", low=1e-6, high=1e-4)\n",
    "    amsgrad = trial.suggest_categorical(\"amsgrad\", (True, False))\n",
    "    weight_decay = trial.suggest_loguniform(\"weight_decay\", low=1e-4, high=0.1)\n",
    "    eps = trial.suggest_loguniform(\"eps\", low=1e-10, high=1e-6)\n",
    "    beta_1 = trial.suggest_uniform(\"beta_1\", low=0.0, high=1.0)\n",
    "    beta_2 = trial.suggest_uniform(\"beta_2\", low=0.0, high=1.0)\n",
    "    lr_step_size_factor = trial.suggest_int(\"lr_step_size_factor\", low=3, high=6)\n",
    "\n",
    "    print(f\"Epoch: {epochs}, Batch: {batch_size}\")\n",
    "\n",
    "    train_dataloader, valid_dataloader, _ = fetch_dataset(\n",
    "        random_seed=random_seed, batch_size=batch_size\n",
    "    )\n",
    "\n",
    "    _, best_metrics = run_training(\n",
    "        train_dataloader=train_dataloader,\n",
    "        valid_dataloader=valid_dataloader,\n",
    "        checkpoint_name=checkpoint_name,\n",
    "        epochs=epochs,\n",
    "        optimizer_parameters={\n",
    "            \"lr\": lr,\n",
    "            \"amsgrad\": amsgrad,\n",
    "            \"weight_decay\": weight_decay,\n",
    "            \"eps\": eps,\n",
    "            \"betas\": [beta_1, beta_2],\n",
    "        },\n",
    "        lr_step_parameters={\"step_size\": epochs // lr_step_size_factor, \"gamma\": 0.1},\n",
    "        logging_interval=1500,\n",
    "    )\n",
    "\n",
    "    return best_metrics\n"
   ]
  },
  {
   "cell_type": "code",
   "execution_count": null,
   "metadata": {},
   "outputs": [],
   "source": [
    "study = optuna.create_study(\n",
    "    study_name=\"toxic-comment-classification\",\n",
    "    direction=\"minimize\",\n",
    "    pruner=optuna.pruners.HyperbandPruner(),\n",
    "    sampler=optuna.samplers.TPESampler(multivariate=True),\n",
    "    storage=STORAGE,\n",
    "    load_if_exists=True,\n",
    ")\n",
    "\n",
    "study.optimize(\n",
    "    objective,\n",
    "    n_trials=N_TRIALS,\n",
    "    gc_after_trial=True,\n",
    ")\n"
   ]
  }
 ],
 "metadata": {
  "interpreter": {
   "hash": "dad2d61d92ae8412e850aa9305f380fff2a23d1049f91049574a85bd292857de"
  },
  "kernelspec": {
   "display_name": "Python 3.9.7 ('kaggle')",
   "language": "python",
   "name": "python3"
  },
  "language_info": {
   "codemirror_mode": {
    "name": "ipython",
    "version": 3
   },
   "file_extension": ".py",
   "mimetype": "text/x-python",
   "name": "python",
   "nbconvert_exporter": "python",
   "pygments_lexer": "ipython3",
   "version": "3.9.7"
  },
  "orig_nbformat": 4
 },
 "nbformat": 4,
 "nbformat_minor": 2
}
